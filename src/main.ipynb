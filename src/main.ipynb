{
 "cells": [
  {
   "cell_type": "markdown",
   "metadata": {},
   "source": [
    "# RL Financial model\n",
    "Uses PPO method to train the model and realistic market simulator on dataset prices"
   ]
  },
  {
   "cell_type": "markdown",
   "metadata": {},
   "source": [
    "## Adding imports"
   ]
  },
  {
   "cell_type": "code",
   "execution_count": null,
   "metadata": {
    "id": "6nEtISOwE4xd"
   },
   "outputs": [],
   "source": [
    "import time, random\n",
    "\n",
    "import matplotlib.pyplot as plt\n",
    "import numpy as np\n",
    "import pandas as pd\n",
    "import tensorflow as tf\n",
    "import util\n",
    "\n",
    "from sklearn.preprocessing import MinMaxScaler\n",
    "from util import DataManager\n",
    "from env import MarketEnv, MarketEnvProvider\n",
    "from model import TransformerModel\n",
    "from agent import Agent, AgentMemory\n",
    "\n",
    "%matplotlib inline"
   ]
  },
  {
   "cell_type": "markdown",
   "metadata": {},
   "source": [
    "## Setting up the environment"
   ]
  },
  {
   "cell_type": "code",
   "execution_count": null,
   "metadata": {},
   "outputs": [],
   "source": [
    "seed = 42\n",
    "np.set_printoptions(precision=3, suppress=True)\n",
    "tf.keras.backend.clear_session()\n",
    "random.seed(seed)\n",
    "np.random.seed(seed)\n",
    "tf.random.set_seed(seed)"
   ]
  },
  {
   "cell_type": "markdown",
   "metadata": {},
   "source": [
    "## Preparing the dataset"
   ]
  },
  {
   "cell_type": "markdown",
   "metadata": {},
   "source": [
    "### Reading initial OHLCV data"
   ]
  },
  {
   "cell_type": "code",
   "execution_count": null,
   "metadata": {
    "colab": {
     "base_uri": "https://localhost:8080/",
     "height": 677
    },
    "collapsed": true,
    "id": "gttGO640G2Oo",
    "outputId": "040fe780-0e4f-467e-8de3-d6ca5138c445"
   },
   "outputs": [],
   "source": [
    "df = pd.read_csv(f'datasets/btcusdt_5m.csv')\n",
    "df.drop('timestamp', axis='columns', inplace=True)\n",
    "df.head(20)"
   ]
  },
  {
   "cell_type": "markdown",
   "metadata": {},
   "source": [
    "### Adding indicators + Scaling data\n",
    "Including different length RSI, MA, ATR, ADX and MACD indicators"
   ]
  },
  {
   "cell_type": "code",
   "execution_count": null,
   "metadata": {
    "id": "fdiVh0GQG3yf"
   },
   "outputs": [],
   "source": [
    "scaler = MinMaxScaler(feature_range=(0, 1))\n",
    "df = pd.DataFrame(scaler.fit_transform(df), columns=['o', 'h', 'l', 'c', 'v'])"
   ]
  },
  {
   "cell_type": "code",
   "execution_count": null,
   "metadata": {
    "colab": {
     "base_uri": "https://localhost:8080/",
     "height": 677
    },
    "collapsed": true,
    "id": "55jJVnGoHl6J",
    "outputId": "d91d7ef0-0f7a-4380-ae7a-2ad73a195bea"
   },
   "outputs": [],
   "source": [
    "df['pct_change'] = (df['c'] - df['c'].shift(-1)) / df['c'].shift(-1)\n",
    "df['rsi7'] = util.rsi(df, 7)\n",
    "df['rsi14'] = util.rsi(df, 14)\n",
    "df['rsi28'] = util.rsi(df, 28)\n",
    "df['ma20'] = util.ma(df, 20)\n",
    "df['ma30'] = util.ma(df, 30)\n",
    "df['ma40'] = util.ma(df, 40)\n",
    "df['atr7'] = util.atr(df, 7)\n",
    "df['atr14'] = util.atr(df, 14)\n",
    "df['atr28'] = util.atr(df, 28)\n",
    "df['adx14'] = util.adx(df, 14)\n",
    "df['adx28'] = util.adx(df, 28)\n",
    "df['adx56'] = util.adx(df, 56)\n",
    "df['macd12-26-9'] = util.macd(df, 12, 26, 9)"
   ]
  },
  {
   "cell_type": "markdown",
   "metadata": {},
   "source": [
    "### Clenaing data from NANs, zeros and INF"
   ]
  },
  {
   "cell_type": "code",
   "execution_count": null,
   "metadata": {},
   "outputs": [],
   "source": [
    "df.replace([np.inf, -np.inf], np.nan, inplace=True)\n",
    "df = pd.DataFrame(scaler.fit_transform(df), columns=['o', 'h', 'l', 'c', 'v', 'pct_change', 'rsi7', 'rsi14', 'rsi28', 'ma20', 'ma30', 'ma40', 'atr7', 'atr14', 'atr28', 'adx14', 'adx28', 'adx56', 'macd12-26-9'])\n",
    "df.dropna(inplace=True)\n",
    "df = df[(df != 0).all(axis=1)]\n",
    "df.head(20)"
   ]
  },
  {
   "cell_type": "markdown",
   "metadata": {},
   "source": [
    "## Plotting indicators"
   ]
  },
  {
   "cell_type": "code",
   "execution_count": null,
   "metadata": {
    "colab": {
     "base_uri": "https://localhost:8080/",
     "height": 1000
    },
    "collapsed": true,
    "id": "-hTmWci9Hnm_",
    "outputId": "25d34a54-2e85-403a-e02c-b2ecfcabf82f"
   },
   "outputs": [],
   "source": [
    "start = 60000\n",
    "end = start + 500\n",
    "util.plot(df[start:end], main_color='lightcoral', indicators=[['cornflowerblue', 'MA20', df['ma20'][start:end]], ['b', 'MA30', df['ma30'][start:end]], ['midnightblue', 'MA40', df['ma40'][start:end]]], separated_indicators=[\n",
    "    ['lightcoral', 'Percentage Change', -1, -1, df['pct_change'][start:end]],\n",
    "    ['lightcoral', 'Volume', -1, -1, df['v'][start:end]],\n",
    "    ['lightcoral', 'RSI7', 0, 1, df['rsi7'][start:end]],\n",
    "    ['lightcoral', 'RSI14', 0, 1, df['rsi14'][start:end]],\n",
    "    ['lightcoral', 'RSI28', 0, 1, df['rsi28'][start:end]],\n",
    "    ['lightcoral', 'ATR7', 0, df['atr14'][start:end].max() * 1.5, df['atr7'][start:end]],\n",
    "    ['lightcoral', 'ATR14', 0, df['atr14'][start:end].max() * 1.5, df['atr14'][start:end]],\n",
    "    ['lightcoral', 'ATR28', 0, df['atr14'][start:end].max() * 1.5, df['atr28'][start:end]],\n",
    "    ['lightcoral', 'ADX14', 0, 1, df['adx14'][start:end]],\n",
    "    ['lightcoral', 'ADX28', 0, 1, df['adx28'][start:end]],\n",
    "    ['lightcoral', 'ADX56', 0, 1, df['adx56'][start:end]],\n",
    "    ['lightcoral', 'MACD12-26-9', -1, -1, df['macd12-26-9'][start:end]]\n",
    "])"
   ]
  },
  {
   "cell_type": "markdown",
   "metadata": {},
   "source": [
    "## Building agent\n",
    "Building based on configuration and saved runtime data"
   ]
  },
  {
   "cell_type": "code",
   "execution_count": null,
   "metadata": {
    "id": "Hzds18-rhgej"
   },
   "outputs": [],
   "source": [
    "data = DataManager(f'cache/info.json')"
   ]
  },
  {
   "cell_type": "code",
   "execution_count": null,
   "metadata": {
    "id": "--usBPpXHqCq"
   },
   "outputs": [],
   "source": [
    "cfg = data.get_config()\n",
    "initial_cap, env_size, timestamps, batch_size, n_epochs, n_memory_envs, episodes = 1000, cfg['env_size'], cfg['timestamps'], cfg['batch_size'], cfg['n_epochs'], cfg['n_memory_envs'], cfg['episodes'] # 64, 64, 32, 16, 16, 1024"
   ]
  },
  {
   "cell_type": "code",
   "execution_count": null,
   "metadata": {
    "id": "SgQGPinGHtkZ"
   },
   "outputs": [],
   "source": [
    "provider = MarketEnvProvider(data=df, initial_capital=initial_cap, position_size=0.98, commission=0.001, timestamps=timestamps, env_size=env_size)\n",
    "memory = AgentMemory(batch_size=batch_size, max_capacity=(env_size * n_memory_envs))\n",
    "agent = Agent(input_shape=(timestamps, df.shape[1] + provider.get_env().get_additional_info_len()), n_actions=3, gamma=0.99, lr=0.001, gae_lambda=0.95, policy_clip=0.25, entropy_coef=0.01, batch_size=batch_size, n_epochs=n_epochs, memory=memory)"
   ]
  },
  {
   "cell_type": "code",
   "execution_count": null,
   "metadata": {
    "id": "zP-poxFR8XI8"
   },
   "outputs": [],
   "source": [
    "actor_weights_loc, critic_weights_loc = data.get_weights_loc()\n",
    "if actor_weights_loc != -1:\n",
    "    print('Weights found: injecting...')\n",
    "    agent.inject_weights(actor_weights_loc, critic_weights_loc)\n",
    "    print('Weights injected')"
   ]
  },
  {
   "cell_type": "code",
   "execution_count": null,
   "metadata": {
    "colab": {
     "base_uri": "https://localhost:8080/",
     "height": 1000
    },
    "collapsed": true,
    "id": "ojTJ1JVG9han",
    "outputId": "9a2a0a8a-a651-4f5a-aaa5-4541758351c5"
   },
   "outputs": [],
   "source": [
    "agent.info()"
   ]
  },
  {
   "cell_type": "markdown",
   "metadata": {},
   "source": [
    "## Training"
   ]
  },
  {
   "cell_type": "code",
   "execution_count": null,
   "metadata": {
    "colab": {
     "base_uri": "https://localhost:8080/",
     "height": 1000
    },
    "id": "iEcdrt0RHuwc",
    "outputId": "6dbfe8b3-d8de-4c80-8075-90b9476f0820"
   },
   "outputs": [],
   "source": [
    "checkpoint_timeout = 1\n",
    "offset = episodes - data.get_updated_config(checkpoint_timeout)['episodes']\n",
    "for episode in range(episodes - offset):\n",
    "    print(f'episode {offset + episode + 1} out of {episodes}')\n",
    "    rewards_buf, cap_gain_buf = [], []\n",
    "    for epoch in range(n_epochs):\n",
    "        print(f'experience epoch {epoch + 1} out of {n_epochs}')\n",
    "        env = provider.get_env()\n",
    "        price_change, cap_change, rewards, actions, probabilities = agent.go(env, log=True)\n",
    "        history = env.get_history()\n",
    "        if epoch == 0:\n",
    "            util.plot_trades(history, price_change, True)\n",
    "            util.plot_trades(history, price_change, False)\n",
    "            plt.figure(figsize=(20, 6))\n",
    "            plt.plot(cap_change, color='lightcoral')\n",
    "            plt.legend(['Capital Change'], loc='upper left')\n",
    "            plt.grid(True)\n",
    "            plt.show()\n",
    "        util.plot_rewards_distribution(rewards, actions, colors=['indianred', 'mediumblue', 'forestgreen'], zero_value_percent=0.025, zero_value_line_color='k')\n",
    "        util.plot_probabilities_distribution(probabilities, colors=['indianred', 'mediumblue', 'forestgreen'])\n",
    "        rewards_buf.append(sum(rewards))\n",
    "        cap_gain_buf.append((np.mean(cap_change) - initial_cap) / initial_cap)\n",
    "        print(f'avg_reward={np.mean(rewards)}')\n",
    "    actor_losses, critic_losses = agent.train(log=True)\n",
    "    if episode % checkpoint_timeout == 0:\n",
    "        actor, critic = agent.get_models()\n",
    "        ts = int(time.time())\n",
    "        print(f'saving checkpoint at episode {episode + 1} in timestamp {ts}')\n",
    "        data.load_runtime(ts, np.mean(actor_losses), np.mean(critic_losses), actor, critic, rewards_buf, cap_gain_buf)\n",
    "        print('checkpoint saved')\n",
    "    plt.figure(figsize=(20, 6))\n",
    "    plt.plot(actor_losses, color='g')\n",
    "    plt.plot(critic_losses, color='r')\n",
    "    plt.legend(['Actor Losses', 'Critic Losses'], loc='upper left')\n",
    "    plt.grid(True)\n",
    "    plt.show()"
   ]
  },
  {
   "cell_type": "markdown",
   "metadata": {},
   "source": [
    "## Delete history"
   ]
  },
  {
   "cell_type": "code",
   "execution_count": null,
   "metadata": {
    "id": "z71rhrDxsQ7F"
   },
   "outputs": [],
   "source": [
    "# data.delete_runtimes()"
   ]
  }
 ],
 "metadata": {
  "accelerator": "GPU",
  "colab": {
   "gpuType": "T4",
   "provenance": []
  },
  "kernelspec": {
   "display_name": "Python 3",
   "name": "python3"
  },
  "language_info": {
   "name": "python"
  }
 },
 "nbformat": 4,
 "nbformat_minor": 0
}
